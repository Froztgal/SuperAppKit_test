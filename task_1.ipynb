{
  "nbformat": 4,
  "nbformat_minor": 0,
  "metadata": {
    "colab": {
      "name": "task_1_1.ipynb",
      "provenance": [],
      "collapsed_sections": [],
      "mount_file_id": "1lHSXdxXK_HRxtrQfZ33IAbwtAS8rDHBK",
      "authorship_tag": "ABX9TyNA3sngyXxHhZJS+GpE9s4v",
      "include_colab_link": true
    },
    "kernelspec": {
      "name": "python3",
      "display_name": "Python 3"
    },
    "language_info": {
      "name": "python"
    }
  },
  "cells": [
    {
      "cell_type": "markdown",
      "metadata": {
        "id": "view-in-github",
        "colab_type": "text"
      },
      "source": [
        "<a href=\"https://colab.research.google.com/github/Froztgal/SuperAppKit_test/blob/main/task_1_1.ipynb\" target=\"_parent\"><img src=\"https://colab.research.google.com/assets/colab-badge.svg\" alt=\"Open In Colab\"/></a>"
      ]
    },
    {
      "cell_type": "code",
      "metadata": {
        "id": "Ada7-0ImC0nK"
      },
      "source": [
        "import numpy as np\n",
        "import pandas as pd\n",
        "import seaborn as sns\n",
        "from datetime import timedelta\n",
        "from sklearn.ensemble import RandomForestRegressor"
      ],
      "execution_count": 27,
      "outputs": []
    },
    {
      "cell_type": "code",
      "metadata": {
        "id": "S-LKQRNs6uii"
      },
      "source": [
        "def get_start_date(dataframe):\n",
        "\n",
        "    first_date_df = dataframe.groupby([\"id\", \"os\"], as_index=False) \\\n",
        "        .agg({\"date\": \"min\"}).rename({\"date\": \"first_date\"}, axis=1)\n",
        "\n",
        "    return first_date_df"
      ],
      "execution_count": 28,
      "outputs": []
    },
    {
      "cell_type": "code",
      "metadata": {
        "id": "Vnu35wwjC86O"
      },
      "source": [
        "def get_filtering_timestamp(dataframe, first_date_df, threshold_full, threshold_half):\n",
        "\n",
        "    users_start_date = first_date_df.copy()\n",
        "\n",
        "    users_start_date[\"user_date_threshold\"] = \\\n",
        "      users_start_date.first_date + timedelta(days=threshold_full)\n",
        "    \n",
        "    users_start_date[\"user_date_threshold_train\"] = \\\n",
        "      users_start_date.first_date + timedelta(days=threshold_half)\n",
        "\n",
        "    users_start_date = users_start_date.drop(columns=[\"first_date\"], axis=1)\n",
        "\n",
        "    return users_start_date"
      ],
      "execution_count": 29,
      "outputs": []
    },
    {
      "cell_type": "code",
      "metadata": {
        "id": "VEXvXTuFDC1u"
      },
      "source": [
        "def get_time_features(dataframe, first_date_df):\n",
        "\n",
        "    time_features = first_date_df.copy()\n",
        "\n",
        "    time_features['start_year'] = time_features['first_date'].dt.year\n",
        "    time_features['start_quarter'] = time_features['first_date'].dt.quarter\n",
        "    time_features['start_month'] = time_features['first_date'].dt.month\n",
        "    time_features['start_week'] = time_features['first_date'].dt.isocalendar().week\n",
        "    time_features['start_day'] = time_features['first_date'].dt.day\n",
        "    time_features['start_day_of_week'] = time_features['first_date'].dt.weekday\n",
        "\n",
        "    time_features = time_features.drop(\"first_date\", axis=1)\n",
        "\n",
        "    return time_features"
      ],
      "execution_count": 30,
      "outputs": []
    },
    {
      "cell_type": "code",
      "metadata": {
        "id": "4L23Pol7DHo4"
      },
      "source": [
        "def filter_by_time(dataframe, users_start_date):\n",
        "\n",
        "    new_df = dataframe.copy()\n",
        "    \n",
        "    new_df = new_df.merge(users_start_date, on=[\"id\", \"os\"], how=\"outer\")\n",
        "\n",
        "    train_df = new_df[new_df.date <= new_df.user_date_threshold_train]\n",
        "    test_df = new_df[new_df.date <= new_df.user_date_threshold]\n",
        "    \n",
        "    train_df = train_df.drop(columns=[\"user_date_threshold\"], axis=1)\n",
        "    test_df = test_df.drop(columns=[ \"user_date_threshold\"], axis=1)\n",
        "\n",
        "    test_df = pd.DataFrame(test_df, index = set(test_df.index). \\\n",
        "                           difference(set(train_df.index))).reset_index()\n",
        "\n",
        "    train_df = train_df.drop_duplicates()\n",
        "    test_df = test_df.drop_duplicates()\n",
        "\n",
        "    train_df = train_df.groupby([\"id\", \"os\", \"date\"]).agg({\"date\": \"count\"}). \\\n",
        "      rename({\"date\": \"counts\"}, axis=1).reset_index()\n",
        "    test_df = test_df.groupby([\"id\", \"os\", \"date\"]).agg({\"date\": \"count\"}). \\\n",
        "      rename({\"date\": \"counts\"}, axis=1).reset_index()\n",
        "\n",
        "    return train_df, test_df"
      ],
      "execution_count": 31,
      "outputs": []
    },
    {
      "cell_type": "code",
      "metadata": {
        "id": "U5P_yBXcWmqI"
      },
      "source": [
        "def convert_dates(dataframe, first_date_df):\n",
        "\n",
        "    new_df = dataframe.copy()\n",
        "    users_start_date = first_date_df.copy()\n",
        "\n",
        "    new_df = new_df.merge(users_start_date, on=[\"id\", \"os\"], how=\"left\")\n",
        "\n",
        "    new_df[\"date_diff\"] = (new_df.date - new_df.first_date).dt.days\n",
        "\n",
        "    new_df = new_df.drop(columns=[\"date\", \"first_date\"], axis=1)\n",
        "\n",
        "    new_df = new_df.pivot(index=[\"id\", \"os\"], columns='date_diff',\n",
        "                          values='counts').fillna(0).reset_index()\n",
        "\n",
        "    for col in new_df.select_dtypes(exclude=['object']).columns:\n",
        "      new_df[col] = new_df[col].astype(int)\n",
        "\n",
        "    return new_df"
      ],
      "execution_count": 32,
      "outputs": []
    },
    {
      "cell_type": "code",
      "metadata": {
        "id": "TEAohtnc84Nk"
      },
      "source": [
        "def get_x_y_train(dataframe):\n",
        "\n",
        "    treshold_date_full = 30\n",
        "    treshold_date_train = 15\n",
        "\n",
        "    lifetime_df = dataframe.copy()\n",
        "\n",
        "    lifetime_df = lifetime_df[lifetime_df.date >= \"2019-01-01\"]\n",
        "\n",
        "    lifetime_df.date = pd.to_datetime(lifetime_df.date)\n",
        "\n",
        "    firts_date_df = get_start_date(lifetime_df)\n",
        "\n",
        "    second_date_df = firts_date_df.copy()\n",
        "    second_date_df.first_date = second_date_df.first_date + timedelta(days=(treshold_date_train + 1))\n",
        "\n",
        "    start_df = get_filtering_timestamp(lifetime_df, firts_date_df, \n",
        "                                        treshold_date_full, treshold_date_train)\n",
        "\n",
        "    train, target = filter_by_time(lifetime_df, start_df)\n",
        "\n",
        "    converted_train = convert_dates(train, firts_date_df)\n",
        "    converted_target = convert_dates(target, second_date_df)\n",
        "    converted_target = converted_target.rename({0: 16, 1: 17, 2: 18, 3: 19, \n",
        "                                                4: 20, 5: 21, 6: 22, 7: 23, \n",
        "                                                8: 24, 9: 25, 10: 26, 11: 27, \n",
        "                                                12: 28, 13: 29, 14: 30}, axis=1)\n",
        "\n",
        "    time_features = get_time_features(lifetime_df, firts_date_df)\n",
        "\n",
        "    converted_train = converted_train.merge(time_features, on=[\"id\", \"os\"], how=\"left\")\n",
        "\n",
        "    converted_train[\"sum_days\"] = converted_train.iloc[:, range(2, 18)].astype(bool).sum(axis=1)\n",
        "\n",
        "    converted_train[\"sum_entries\"] = converted_train.iloc[:, range(2, 18)].sum(axis=1)\n",
        "\n",
        "    converted_train[\"freq_days\"] = converted_train.sum_days / (treshold_date_train + 1)\n",
        "\n",
        "    whole_df = converted_train.merge(converted_target, on=[\"id\", \"os\"], how=\"left\").fillna(0)\n",
        "\n",
        "    for col in whole_df.select_dtypes(exclude=['object']).columns:\n",
        "        if col != \"freq_days\":\n",
        "            whole_df[col] = whole_df[col].astype(int)\n",
        "\n",
        "    whole_df.os = whole_df.os.map({'Android': 0, 'iOS': 1})\n",
        "    whole_df = whole_df.rename({\"os\": \"is_iOS\"}, axis=1)\n",
        "\n",
        "    whole_df = whole_df.drop(\"id\", axis=1)\n",
        "\n",
        "    X = whole_df.iloc[:, range(0, 26)]\n",
        "    y = whole_df.iloc[:, range(26, 41)]\n",
        "    \n",
        "    return X, y"
      ],
      "execution_count": 33,
      "outputs": []
    },
    {
      "cell_type": "code",
      "metadata": {
        "id": "Z1-WwGD0DqCX"
      },
      "source": [
        "def get_x_y_test(dataframe):\n",
        "\n",
        "    treshold_date_full = 30\n",
        "    treshold_date_train = 15\n",
        "\n",
        "    lifetime_df = dataframe.copy()\n",
        "\n",
        "    lifetime_df.date = pd.to_datetime(lifetime_df.date)\n",
        "\n",
        "    firts_date_df = get_start_date(lifetime_df)\n",
        "\n",
        "    second_date_df = firts_date_df.copy()\n",
        "    second_date_df.first_date = second_date_df.first_date + timedelta(days=(treshold_date_train + 1))\n",
        "\n",
        "    start_df = get_filtering_timestamp(lifetime_df, firts_date_df, \n",
        "                                        treshold_date_full, treshold_date_train)\n",
        "\n",
        "    train, target = filter_by_time(lifetime_df, start_df)\n",
        "\n",
        "    converted_train = convert_dates(train, firts_date_df)\n",
        "    converted_target = convert_dates(target, second_date_df)\n",
        "    converted_target = converted_target.rename({0: 16, 1: 17, 2: 18, 3: 19, \n",
        "                                                4: 20, 5: 21, 6: 22, 7: 23, \n",
        "                                                8: 24, 9: 25, 10: 26, 11: 27, \n",
        "                                                12: 28, 13: 29, 14: 30}, axis=1)\n",
        "\n",
        "    time_features = get_time_features(lifetime_df, firts_date_df)\n",
        "\n",
        "    converted_train = converted_train.merge(time_features, on=[\"id\", \"os\"], how=\"left\")\n",
        "\n",
        "    converted_train[\"sum_days\"] = converted_train.iloc[:, range(2, 18)].astype(bool).sum(axis=1)\n",
        "\n",
        "    converted_train[\"sum_entries\"] = converted_train.iloc[:, range(2, 18)].sum(axis=1)\n",
        "\n",
        "    converted_train[\"freq_days\"] = converted_train.sum_days / (treshold_date_train + 1)\n",
        "\n",
        "    whole_df = converted_train.merge(converted_target, on=[\"id\", \"os\"], how=\"left\").fillna(0)\n",
        "\n",
        "    for col in whole_df.select_dtypes(exclude=['object']).columns:\n",
        "        if col != \"freq_days\":\n",
        "            whole_df[col] = whole_df[col].astype(int)\n",
        "\n",
        "    whole_df.os = whole_df.os.map({'Android': 0, 'iOS': 1})\n",
        "    whole_df = whole_df.rename({\"os\": \"is_iOS\"}, axis=1)\n",
        "\n",
        "    whole_df = whole_df.drop(\"id\", axis=1)\n",
        "\n",
        "    X = whole_df.iloc[:, range(0, 26)]\n",
        "    y = whole_df.iloc[:, range(26, 41)]\n",
        "    \n",
        "    return X, y"
      ],
      "execution_count": 34,
      "outputs": []
    },
    {
      "cell_type": "markdown",
      "metadata": {
        "id": "KH_3ayS60cHi"
      },
      "source": [
        "Connect to Google Disk to load files"
      ]
    },
    {
      "cell_type": "code",
      "metadata": {
        "colab": {
          "base_uri": "https://localhost:8080/"
        },
        "id": "YKyYsIpkO_gT",
        "outputId": "7a918a1d-525a-4ac4-aae6-de9c5e998e9a"
      },
      "source": [
        "from google.colab import drive\n",
        "drive.mount('/content/drive')"
      ],
      "execution_count": 35,
      "outputs": [
        {
          "output_type": "stream",
          "name": "stdout",
          "text": [
            "Drive already mounted at /content/drive; to attempt to forcibly remount, call drive.mount(\"/content/drive\", force_remount=True).\n"
          ]
        }
      ]
    },
    {
      "cell_type": "code",
      "metadata": {
        "colab": {
          "base_uri": "https://localhost:8080/"
        },
        "id": "JgMTv1SHPd0g",
        "outputId": "f4a04686-a0d5-4912-ebcf-e4b579ef17a8"
      },
      "source": [
        "%cd /content/drive/MyDrive"
      ],
      "execution_count": 36,
      "outputs": [
        {
          "output_type": "stream",
          "name": "stdout",
          "text": [
            "/content/drive/MyDrive\n"
          ]
        }
      ]
    },
    {
      "cell_type": "markdown",
      "metadata": {
        "id": "80NmH1nh0jIp"
      },
      "source": [
        "# Training"
      ]
    },
    {
      "cell_type": "code",
      "metadata": {
        "id": "USddSzM2Dfdr"
      },
      "source": [
        "lifetime_df = pd.read_csv(\"lifetime_dataset_for_model_training.csv\", sep=\";\")"
      ],
      "execution_count": 37,
      "outputs": []
    },
    {
      "cell_type": "code",
      "metadata": {
        "id": "Fqzor7R5DpKn"
      },
      "source": [
        "X, y = get_x_y_train(lifetime_df)"
      ],
      "execution_count": 38,
      "outputs": []
    },
    {
      "cell_type": "code",
      "metadata": {
        "id": "fBkuG9r_tQBi"
      },
      "source": [
        "X_new = X.copy()"
      ],
      "execution_count": 39,
      "outputs": []
    },
    {
      "cell_type": "code",
      "metadata": {
        "id": "VxEfmhHnmt-4"
      },
      "source": [
        "clf = RandomForestRegressor(n_jobs=-1)"
      ],
      "execution_count": 40,
      "outputs": []
    },
    {
      "cell_type": "code",
      "metadata": {
        "colab": {
          "base_uri": "https://localhost:8080/"
        },
        "id": "tFjcIYo3JgZF",
        "outputId": "8edffa6a-d040-4e42-b3ce-8356f32195a2"
      },
      "source": [
        "clf.fit(X_new, y)"
      ],
      "execution_count": 41,
      "outputs": [
        {
          "output_type": "execute_result",
          "data": {
            "text/plain": [
              "RandomForestRegressor(bootstrap=True, ccp_alpha=0.0, criterion='mse',\n",
              "                      max_depth=None, max_features='auto', max_leaf_nodes=None,\n",
              "                      max_samples=None, min_impurity_decrease=0.0,\n",
              "                      min_impurity_split=None, min_samples_leaf=1,\n",
              "                      min_samples_split=2, min_weight_fraction_leaf=0.0,\n",
              "                      n_estimators=100, n_jobs=-1, oob_score=False,\n",
              "                      random_state=None, verbose=0, warm_start=False)"
            ]
          },
          "metadata": {},
          "execution_count": 41
        }
      ]
    },
    {
      "cell_type": "code",
      "metadata": {
        "id": "SJuEzT16Mtqy",
        "colab": {
          "base_uri": "https://localhost:8080/"
        },
        "outputId": "ff76c4b7-f294-4d84-b0a1-d6c043739e86"
      },
      "source": [
        "clf.score(X_new, y)"
      ],
      "execution_count": 42,
      "outputs": [
        {
          "output_type": "stream",
          "name": "stderr",
          "text": [
            "/usr/local/lib/python3.7/dist-packages/sklearn/base.py:434: FutureWarning: The default value of multioutput (not exposed in score method) will change from 'variance_weighted' to 'uniform_average' in 0.23 to keep consistent with 'metrics.r2_score'. To specify the default value manually and avoid the warning, please either call 'metrics.r2_score' directly or make a custom scorer with 'metrics.make_scorer' (the built-in scorer 'r2' uses multioutput='uniform_average').\n",
            "  \"multioutput='uniform_average').\", FutureWarning)\n"
          ]
        },
        {
          "output_type": "execute_result",
          "data": {
            "text/plain": [
              "0.7242686809715988"
            ]
          },
          "metadata": {},
          "execution_count": 42
        }
      ]
    },
    {
      "cell_type": "code",
      "metadata": {
        "id": "sP-h0KGujM9Q"
      },
      "source": [
        "yn = pd.DataFrame(clf.predict(X_new))"
      ],
      "execution_count": 43,
      "outputs": []
    },
    {
      "cell_type": "code",
      "metadata": {
        "colab": {
          "base_uri": "https://localhost:8080/",
          "height": 486
        },
        "id": "k3GR1OL4scBY",
        "outputId": "25ae3d43-c286-4d83-c204-a7cb69c0a41e"
      },
      "source": [
        "yplot = y.sum(axis=0)\n",
        "ynplot = yn.rename({0: 16, 1: 17, 2: 18, 3: 19, 4: 20, 5: 21, 6: 22, 7: 23,\n",
        "                        8: 24, 9: 25, 10: 26, 11: 27, 12: 28, 13: 29, 14: 30}, \n",
        "                       axis=1).sum(axis=0)\n",
        "fig = pd.DataFrame({'True y': yplot, 'Predicted y': ynplot}, index=range(16, 31)).plot.bar(figsize=(12,8))"
      ],
      "execution_count": 44,
      "outputs": [
        {
          "output_type": "display_data",
          "data": {
            "image/png": "[encoded data removed]",
            "text/plain": [
              "<Figure size 864x576 with 1 Axes>"
            ]
          },
          "metadata": {
            "needs_background": "light"
          }
        }
      ]
    },
    {
      "cell_type": "code",
      "metadata": {
        "id": "LGkk6bEEjpVb"
      },
      "source": [
        "result = abs(yn.rename({0: 16, 1: 17, 2: 18, 3: 19, 4: 20, 5: 21, 6: 22, 7: 23,\n",
        "                        8: 24, 9: 25, 10: 26, 11: 27, 12: 28, 13: 29, 14: 30}, \n",
        "                       axis=1) - y)"
      ],
      "execution_count": 45,
      "outputs": []
    },
    {
      "cell_type": "code",
      "metadata": {
        "colab": {
          "base_uri": "https://localhost:8080/",
          "height": 500
        },
        "id": "T9FCqGEFphoN",
        "outputId": "ed6b9ade-e65b-489a-d17a-92c1628a6536"
      },
      "source": [
        "((result.sum(axis=0) / result.shape[0]) * 100).plot(figsize=(12,8))"
      ],
      "execution_count": 46,
      "outputs": [
        {
          "output_type": "execute_result",
          "data": {
            "text/plain": [
              "<matplotlib.axes._subplots.AxesSubplot at 0x7fd09a67b250>"
            ]
          },
          "metadata": {},
          "execution_count": 46
        },
        {
          "output_type": "display_data",
          "data": {
            "image/png": "[encoded data removed]",
            "text/plain": [
              "<Figure size 864x576 with 1 Axes>"
            ]
          },
          "metadata": {
            "needs_background": "light"
          }
        }
      ]
    },
    {
      "cell_type": "markdown",
      "metadata": {
        "id": "iUIgK2RV0XUE"
      },
      "source": [
        "# Prediction"
      ]
    },
    {
      "cell_type": "code",
      "metadata": {
        "id": "0j5lheje0Zz-"
      },
      "source": [
        "lifetime_df = pd.read_csv(\"lifetime_dataset_for_prediction.csv\", sep=\";\")"
      ],
      "execution_count": 47,
      "outputs": []
    },
    {
      "cell_type": "code",
      "metadata": {
        "id": "97XiLc7K0q7O"
      },
      "source": [
        "X, y = get_x_y_test(lifetime_df)"
      ],
      "execution_count": 48,
      "outputs": []
    },
    {
      "cell_type": "code",
      "metadata": {
        "id": "iWn67SDc_Uvl"
      },
      "source": [
        "X_new = X.copy()"
      ],
      "execution_count": 49,
      "outputs": []
    },
    {
      "cell_type": "code",
      "metadata": {
        "id": "phpTLYV70wcW"
      },
      "source": [
        "yn = pd.DataFrame(clf.predict(X_new))"
      ],
      "execution_count": 50,
      "outputs": []
    },
    {
      "cell_type": "markdown",
      "metadata": {
        "id": "NZP6-ENeLZHR"
      },
      "source": [
        "График, на котором изображена фактическая активность пользователей и та, которую предсказывает модель"
      ]
    },
    {
      "cell_type": "code",
      "metadata": {
        "colab": {
          "base_uri": "https://localhost:8080/",
          "height": 486
        },
        "id": "0CAWCFX71sh0",
        "outputId": "823459a5-dd0c-4196-9df9-df67e515694d"
      },
      "source": [
        "yplot = y.sum(axis=0)\n",
        "ynplot = yn.rename({0: 16, 1: 17, 2: 18, 3: 19, 4: 20, 5: 21, 6: 22, 7: 23,\n",
        "                        8: 24, 9: 25, 10: 26, 11: 27, 12: 28, 13: 29, 14: 30}, \n",
        "                       axis=1).sum(axis=0)\n",
        "fig = pd.DataFrame({'True y': yplot, 'Predicted y': ynplot}, index=range(16, 31)).plot.bar(figsize=(12,8))"
      ],
      "execution_count": 51,
      "outputs": [
        {
          "output_type": "display_data",
          "data": {
            "image/png": "[encoded data removed]",
            "text/plain": [
              "<Figure size 864x576 with 1 Axes>"
            ]
          },
          "metadata": {
            "needs_background": "light"
          }
        }
      ]
    },
    {
      "cell_type": "markdown",
      "metadata": {
        "id": "BfVftdMX9WeE"
      },
      "source": [
        "Модель предсказывает активность пользователя на 15 дней вперед, основываясь на информации за первые пятнадцать дней. "
      ]
    },
    {
      "cell_type": "code",
      "metadata": {
        "id": "qWvHElp11vOY"
      },
      "source": [
        "result = abs(yn.rename({0: 16, 1: 17, 2: 18, 3: 19, 4: 20, 5: 21, 6: 22, 7: 23,\n",
        "                        8: 24, 9: 25, 10: 26, 11: 27, 12: 28, 13: 29, 14: 30}, \n",
        "                       axis=1) - y)"
      ],
      "execution_count": 52,
      "outputs": []
    },
    {
      "cell_type": "markdown",
      "metadata": {
        "id": "W4IjugNeLMXx"
      },
      "source": [
        "Ошибка прогноза в количестве событий по дням"
      ]
    },
    {
      "cell_type": "code",
      "metadata": {
        "colab": {
          "base_uri": "https://localhost:8080/"
        },
        "id": "gGHY0DHW2ICC",
        "outputId": "76b0df5e-f03e-4590-f434-1fa53f36b3f1"
      },
      "source": [
        "round(result.sum(axis=0))"
      ],
      "execution_count": 53,
      "outputs": [
        {
          "output_type": "execute_result",
          "data": {
            "text/plain": [
              "16    103272.0\n",
              "17     94273.0\n",
              "18     86016.0\n",
              "19     78478.0\n",
              "20     69650.0\n",
              "21     60386.0\n",
              "22     52256.0\n",
              "23     44584.0\n",
              "24     39449.0\n",
              "25     31564.0\n",
              "26     25837.0\n",
              "27     20200.0\n",
              "28     14493.0\n",
              "29     10985.0\n",
              "30      7651.0\n",
              "dtype: float64"
            ]
          },
          "metadata": {},
          "execution_count": 53
        }
      ]
    },
    {
      "cell_type": "code",
      "metadata": {
        "colab": {
          "base_uri": "https://localhost:8080/",
          "height": 500
        },
        "id": "X9fcSBjN1yI_",
        "outputId": "e01ae342-4ac6-481e-c883-15fccd61ade5"
      },
      "source": [
        "((result.sum(axis=0) / result.shape[0]) * 100).plot(figsize=(12,8))"
      ],
      "execution_count": 54,
      "outputs": [
        {
          "output_type": "execute_result",
          "data": {
            "text/plain": [
              "<matplotlib.axes._subplots.AxesSubplot at 0x7fd09d56e5d0>"
            ]
          },
          "metadata": {},
          "execution_count": 54
        },
        {
          "output_type": "display_data",
          "data": {
            "image/png": "[encoded data removed]",
            "text/plain": [
              "<Figure size 864x576 with 1 Axes>"
            ]
          },
          "metadata": {
            "needs_background": "light"
          }
        }
      ]
    }
  ]
}
