{
 "cells": [
  {
   "cell_type": "markdown",
   "source": [
    "# Imports"
   ],
   "metadata": {}
  },
  {
   "cell_type": "code",
   "execution_count": 156,
   "source": [
    "import pandas as pd\r\n",
    "from numpy.random import beta as rbeta, gamma as rgamma"
   ],
   "outputs": [],
   "metadata": {}
  },
  {
   "cell_type": "markdown",
   "source": [
    "# Functions"
   ],
   "metadata": {}
  },
  {
   "cell_type": "code",
   "execution_count": 157,
   "source": [
    "def probability_B_beats_A(alpha_a, beta_a, k_a, theta_a, alpha_b, beta_b, k_b, theta_b, m_samples):\r\n",
    "    if (alpha_a <= 0 or beta_a <= 0 or k_a <= 0 or theta_a <= 0\r\n",
    "    or alpha_b <= 0 or beta_b <= 0 or k_b <=0 or theta_b <= 0):\r\n",
    "        lambdaA = 0\r\n",
    "        lambdaB = 0\r\n",
    "        omegaA = 0\r\n",
    "        omegaB = 0\r\n",
    "    else:\r\n",
    "        lambdaA = rbeta(alpha_a, beta_a, size=m_samples)\r\n",
    "        lambdaB = rbeta(alpha_b, beta_b, size=m_samples)\r\n",
    "        omegaA = rgamma(size=m_samples, shape = k_a, scale = theta_a)\r\n",
    "        omegaB = rgamma(size=m_samples, shape = k_b, scale = theta_b)  \r\n",
    "        convProbBbeatsA = sum(lambdaB > lambdaA) / m_samples     \r\n",
    "        revProbBbeatsA = sum(1/omegaB > 1/omegaA) / m_samples\r\n",
    "        arpuProbBbeatsA = sum(lambdaB/omegaB > lambdaA/omegaA) / m_samples\r\n",
    "\r\n",
    "    return convProbBbeatsA, revProbBbeatsA, arpuProbBbeatsA"
   ],
   "outputs": [],
   "metadata": {}
  },
  {
   "cell_type": "markdown",
   "source": [
    "# Data Preparation"
   ],
   "metadata": {}
  },
  {
   "cell_type": "code",
   "execution_count": 158,
   "source": [
    "result = pd.read_csv(\"dataset_for_experiment_result.csv\", sep=\";\")\r\n",
    "result.revenue = result.revenue.str.replace(\",\", \".\")\r\n",
    "result.revenue = pd.to_numeric(result.revenue)"
   ],
   "outputs": [],
   "metadata": {}
  },
  {
   "cell_type": "code",
   "execution_count": 159,
   "source": [
    "result = result.groupby([\"id\", \"group_name\", \"os\"], as_index=False).agg({\"1_month_retention\": \"mean\", \"revenue\": \"sum\"})"
   ],
   "outputs": [],
   "metadata": {}
  },
  {
   "cell_type": "code",
   "execution_count": 160,
   "source": [
    "result.head()"
   ],
   "outputs": [
    {
     "output_type": "execute_result",
     "data": {
      "text/html": [
       "<div>\n",
       "<style scoped>\n",
       "    .dataframe tbody tr th:only-of-type {\n",
       "        vertical-align: middle;\n",
       "    }\n",
       "\n",
       "    .dataframe tbody tr th {\n",
       "        vertical-align: top;\n",
       "    }\n",
       "\n",
       "    .dataframe thead th {\n",
       "        text-align: right;\n",
       "    }\n",
       "</style>\n",
       "<table border=\"1\" class=\"dataframe\">\n",
       "  <thead>\n",
       "    <tr style=\"text-align: right;\">\n",
       "      <th></th>\n",
       "      <th>id</th>\n",
       "      <th>group_name</th>\n",
       "      <th>os</th>\n",
       "      <th>1_month_retention</th>\n",
       "      <th>revenue</th>\n",
       "    </tr>\n",
       "  </thead>\n",
       "  <tbody>\n",
       "    <tr>\n",
       "      <th>0</th>\n",
       "      <td>00003044-d7c4-4734-9d2f-9e50d5ce6a7d</td>\n",
       "      <td>a</td>\n",
       "      <td>Android</td>\n",
       "      <td>1</td>\n",
       "      <td>15.000000</td>\n",
       "    </tr>\n",
       "    <tr>\n",
       "      <th>1</th>\n",
       "      <td>0000effd-4d00-46dc-8f0c-22c9c5e381df</td>\n",
       "      <td>a</td>\n",
       "      <td>Android</td>\n",
       "      <td>1</td>\n",
       "      <td>0.500000</td>\n",
       "    </tr>\n",
       "    <tr>\n",
       "      <th>2</th>\n",
       "      <td>00039bcd-d6ee-46fb-bf91-11d10bdf8de0</td>\n",
       "      <td>a</td>\n",
       "      <td>Android</td>\n",
       "      <td>1</td>\n",
       "      <td>20.000000</td>\n",
       "    </tr>\n",
       "    <tr>\n",
       "      <th>3</th>\n",
       "      <td>0004c819-3348-4cf1-8a3d-7447e35e1d72</td>\n",
       "      <td>a</td>\n",
       "      <td>Android</td>\n",
       "      <td>0</td>\n",
       "      <td>3.258179</td>\n",
       "    </tr>\n",
       "    <tr>\n",
       "      <th>4</th>\n",
       "      <td>000728AB-086A-48CB-91ED-E0BBFAB15598</td>\n",
       "      <td>a</td>\n",
       "      <td>iOS</td>\n",
       "      <td>1</td>\n",
       "      <td>0.000000</td>\n",
       "    </tr>\n",
       "  </tbody>\n",
       "</table>\n",
       "</div>"
      ],
      "text/plain": [
       "                                     id group_name       os  \\\n",
       "0  00003044-d7c4-4734-9d2f-9e50d5ce6a7d          a  Android   \n",
       "1  0000effd-4d00-46dc-8f0c-22c9c5e381df          a  Android   \n",
       "2  00039bcd-d6ee-46fb-bf91-11d10bdf8de0          a  Android   \n",
       "3  0004c819-3348-4cf1-8a3d-7447e35e1d72          a  Android   \n",
       "4  000728AB-086A-48CB-91ED-E0BBFAB15598          a      iOS   \n",
       "\n",
       "   1_month_retention    revenue  \n",
       "0                  1  15.000000  \n",
       "1                  1   0.500000  \n",
       "2                  1  20.000000  \n",
       "3                  0   3.258179  \n",
       "4                  1   0.000000  "
      ]
     },
     "metadata": {},
     "execution_count": 160
    }
   ],
   "metadata": {}
  },
  {
   "cell_type": "code",
   "execution_count": 161,
   "source": [
    "tmp_a_A = result[(result.group_name == \"a\") & (result.os == \"Android\")].drop(columns=[\"group_name\", \"os\"])\r\n",
    "tmp_a_i = result[(result.group_name == \"a\") & (result.os == \"iOS\")].drop(columns=[\"group_name\", \"os\"])\r\n",
    "tmp_c_A = result[(result.group_name == \"control\") & (result.os == \"Android\")].drop(columns=[\"group_name\", \"os\"])\r\n",
    "tmp_c_i = result[(result.group_name == \"control\") & (result.os == \"iOS\")].drop(columns=[\"group_name\", \"os\"])"
   ],
   "outputs": [],
   "metadata": {}
  },
  {
   "cell_type": "markdown",
   "source": [
    "# Results"
   ],
   "metadata": {}
  },
  {
   "cell_type": "code",
   "execution_count": 162,
   "source": [
    "new_res_ret = result.groupby([\"group_name\", \"os\"], as_index=False).agg({\"1_month_retention\": [\"count\", \"sum\", \"mean\"]})\r\n",
    "new_res_ret"
   ],
   "outputs": [
    {
     "output_type": "execute_result",
     "data": {
      "text/html": [
       "<div>\n",
       "<style scoped>\n",
       "    .dataframe tbody tr th:only-of-type {\n",
       "        vertical-align: middle;\n",
       "    }\n",
       "\n",
       "    .dataframe tbody tr th {\n",
       "        vertical-align: top;\n",
       "    }\n",
       "\n",
       "    .dataframe thead tr th {\n",
       "        text-align: left;\n",
       "    }\n",
       "</style>\n",
       "<table border=\"1\" class=\"dataframe\">\n",
       "  <thead>\n",
       "    <tr>\n",
       "      <th></th>\n",
       "      <th>group_name</th>\n",
       "      <th>os</th>\n",
       "      <th colspan=\"3\" halign=\"left\">1_month_retention</th>\n",
       "    </tr>\n",
       "    <tr>\n",
       "      <th></th>\n",
       "      <th></th>\n",
       "      <th></th>\n",
       "      <th>count</th>\n",
       "      <th>sum</th>\n",
       "      <th>mean</th>\n",
       "    </tr>\n",
       "  </thead>\n",
       "  <tbody>\n",
       "    <tr>\n",
       "      <th>0</th>\n",
       "      <td>a</td>\n",
       "      <td>Android</td>\n",
       "      <td>11635</td>\n",
       "      <td>5838</td>\n",
       "      <td>0.501762</td>\n",
       "    </tr>\n",
       "    <tr>\n",
       "      <th>1</th>\n",
       "      <td>a</td>\n",
       "      <td>iOS</td>\n",
       "      <td>4890</td>\n",
       "      <td>3871</td>\n",
       "      <td>0.791616</td>\n",
       "    </tr>\n",
       "    <tr>\n",
       "      <th>2</th>\n",
       "      <td>control</td>\n",
       "      <td>Android</td>\n",
       "      <td>11793</td>\n",
       "      <td>5892</td>\n",
       "      <td>0.499618</td>\n",
       "    </tr>\n",
       "    <tr>\n",
       "      <th>3</th>\n",
       "      <td>control</td>\n",
       "      <td>iOS</td>\n",
       "      <td>4772</td>\n",
       "      <td>3776</td>\n",
       "      <td>0.791282</td>\n",
       "    </tr>\n",
       "  </tbody>\n",
       "</table>\n",
       "</div>"
      ],
      "text/plain": [
       "  group_name       os 1_month_retention                \n",
       "                                  count   sum      mean\n",
       "0          a  Android             11635  5838  0.501762\n",
       "1          a      iOS              4890  3871  0.791616\n",
       "2    control  Android             11793  5892  0.499618\n",
       "3    control      iOS              4772  3776  0.791282"
      ]
     },
     "metadata": {},
     "execution_count": 162
    }
   ],
   "metadata": {}
  },
  {
   "cell_type": "code",
   "execution_count": 163,
   "source": [
    "new_res_rev = result[result.revenue != 0].groupby([\"group_name\", \"os\"], as_index=False).agg({\"revenue\": [\"count\", \"mean\", \"sum\"]})\r\n",
    "new_res_rev"
   ],
   "outputs": [
    {
     "output_type": "execute_result",
     "data": {
      "text/html": [
       "<div>\n",
       "<style scoped>\n",
       "    .dataframe tbody tr th:only-of-type {\n",
       "        vertical-align: middle;\n",
       "    }\n",
       "\n",
       "    .dataframe tbody tr th {\n",
       "        vertical-align: top;\n",
       "    }\n",
       "\n",
       "    .dataframe thead tr th {\n",
       "        text-align: left;\n",
       "    }\n",
       "</style>\n",
       "<table border=\"1\" class=\"dataframe\">\n",
       "  <thead>\n",
       "    <tr>\n",
       "      <th></th>\n",
       "      <th>group_name</th>\n",
       "      <th>os</th>\n",
       "      <th colspan=\"3\" halign=\"left\">revenue</th>\n",
       "    </tr>\n",
       "    <tr>\n",
       "      <th></th>\n",
       "      <th></th>\n",
       "      <th></th>\n",
       "      <th>count</th>\n",
       "      <th>mean</th>\n",
       "      <th>sum</th>\n",
       "    </tr>\n",
       "  </thead>\n",
       "  <tbody>\n",
       "    <tr>\n",
       "      <th>0</th>\n",
       "      <td>a</td>\n",
       "      <td>Android</td>\n",
       "      <td>5690</td>\n",
       "      <td>8.983502</td>\n",
       "      <td>51116.127454</td>\n",
       "    </tr>\n",
       "    <tr>\n",
       "      <th>1</th>\n",
       "      <td>a</td>\n",
       "      <td>iOS</td>\n",
       "      <td>2688</td>\n",
       "      <td>7.593620</td>\n",
       "      <td>20411.651903</td>\n",
       "    </tr>\n",
       "    <tr>\n",
       "      <th>2</th>\n",
       "      <td>control</td>\n",
       "      <td>Android</td>\n",
       "      <td>5774</td>\n",
       "      <td>8.768163</td>\n",
       "      <td>50627.372443</td>\n",
       "    </tr>\n",
       "    <tr>\n",
       "      <th>3</th>\n",
       "      <td>control</td>\n",
       "      <td>iOS</td>\n",
       "      <td>2689</td>\n",
       "      <td>7.129589</td>\n",
       "      <td>19171.465474</td>\n",
       "    </tr>\n",
       "  </tbody>\n",
       "</table>\n",
       "</div>"
      ],
      "text/plain": [
       "  group_name       os revenue                        \n",
       "                        count      mean           sum\n",
       "0          a  Android    5690  8.983502  51116.127454\n",
       "1          a      iOS    2688  7.593620  20411.651903\n",
       "2    control  Android    5774  8.768163  50627.372443\n",
       "3    control      iOS    2689  7.129589  19171.465474"
      ]
     },
     "metadata": {},
     "execution_count": 163
    }
   ],
   "metadata": {}
  },
  {
   "cell_type": "markdown",
   "source": [
    "# Android"
   ],
   "metadata": {}
  },
  {
   "cell_type": "code",
   "execution_count": 168,
   "source": [
    "alpha_a = 1 + 5892 \r\n",
    "beta_a = 1 + (11793 - 5892) \r\n",
    "alpha_b = 1 + 5838 \r\n",
    "beta_b = 1 + (11635 - 5838)\r\n",
    "k_a = 5774\r\n",
    "k_b = 5690\r\n",
    "theta_a = 1 / (1 + 50627)\r\n",
    "theta_b = 1 / (1 + 51116)\r\n",
    "m_samples = 100000\r\n",
    "probability_B_beats_A(alpha_a, beta_a, k_a, theta_a, alpha_b, beta_b, k_b, theta_b, m_samples)"
   ],
   "outputs": [
    {
     "output_type": "execute_result",
     "data": {
      "text/plain": [
       "(0.62776, 0.90342, 0.89552)"
      ]
     },
     "metadata": {},
     "execution_count": 168
    }
   ],
   "metadata": {}
  },
  {
   "cell_type": "markdown",
   "source": [
    "В категории Android пользователей, по показателю 1 month retention группа \"a\" победила группу \"control\" с вероятностью 62,8%, а по показателю revenue с вероятностью 90,3%."
   ],
   "metadata": {}
  },
  {
   "cell_type": "markdown",
   "source": [
    "# iOS"
   ],
   "metadata": {}
  },
  {
   "cell_type": "code",
   "execution_count": 167,
   "source": [
    "alpha_a = 1 + 3776 \r\n",
    "beta_a = 1 + (4772 - 3776) \r\n",
    "alpha_b = 1 + 3871 \r\n",
    "beta_b = 1 + (4890 - 3871)\r\n",
    "k_a = 2689\r\n",
    "k_b = 2688\r\n",
    "theta_a = 1 / (1 + 19171)\r\n",
    "theta_b = 1 / (1 + 20411)\r\n",
    "m_samples = 100000\r\n",
    "probability_B_beats_A(alpha_a, beta_a, k_a, theta_a, alpha_b, beta_b, k_b, theta_b, m_samples)"
   ],
   "outputs": [
    {
     "output_type": "execute_result",
     "data": {
      "text/plain": [
       "(0.51625, 0.98923, 0.98488)"
      ]
     },
     "metadata": {},
     "execution_count": 167
    }
   ],
   "metadata": {}
  },
  {
   "cell_type": "markdown",
   "source": [
    "В категории iOS пользователей, по показателю 1 month retention группа \"a\" победила группу \"control\" с вероятностью 51,6%, а по показателю revenue с вероятностью 98,9%."
   ],
   "metadata": {}
  },
  {
   "cell_type": "markdown",
   "source": [
    "used link 1 - [https://www.evanmiller.org/bayesian-ab-testing.html]"
   ],
   "metadata": {}
  },
  {
   "cell_type": "markdown",
   "source": [
    "used link 2 - [https://github.com/Vidogreg/bayes-ab-testing/blob/master/bayes-arpu-test/utilities.R]"
   ],
   "metadata": {}
  }
 ],
 "metadata": {
  "orig_nbformat": 4,
  "language_info": {
   "name": "python",
   "version": "3.8.1",
   "mimetype": "text/x-python",
   "codemirror_mode": {
    "name": "ipython",
    "version": 3
   },
   "pygments_lexer": "ipython3",
   "nbconvert_exporter": "python",
   "file_extension": ".py"
  },
  "kernelspec": {
   "name": "python3",
   "display_name": "Python 3.8.1 32-bit"
  },
  "interpreter": {
   "hash": "68f0c95d26dc60f7c649d0ef1abbb56933b98e8f3b9020ce0817056a85bb6e18"
  }
 },
 "nbformat": 4,
 "nbformat_minor": 2
}